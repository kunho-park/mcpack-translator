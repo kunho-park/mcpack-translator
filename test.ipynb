{
 "cells": [
  {
   "cell_type": "code",
   "execution_count": 1,
   "metadata": {},
   "outputs": [],
   "source": [
    "from streamlit_utils import (\n",
    "    initialize_translation_dictionary,\n",
    "    load_custom_dictionary,\n",
    ")\n"
   ]
  },
  {
   "cell_type": "code",
   "execution_count": 17,
   "metadata": {},
   "outputs": [],
   "source": [
    "source_lang_code = \"en_us\"\n",
    "target_lang_code = \"ko_kr\"\n",
    "\n",
    "custom_dict = {\"labyrinthine cave system\": \"미로 같은 동굴 시스템\"}"
   ]
  },
  {
   "cell_type": "code",
   "execution_count": 18,
   "metadata": {},
   "outputs": [
    {
     "name": "stderr",
     "output_type": "stream",
     "text": [
      "2025-04-18 04:10:36,652 - streamlit_utils - INFO - 공식 마인크래프트 번역 사전 로드 완료: 6661개 항목\n"
     ]
    }
   ],
   "source": [
    "official_dict, official_dict_lower = initialize_translation_dictionary(\n",
    "    source_lang_code, target_lang_code\n",
    ")\n",
    "# 번역 컨텍스트 및 다운로드용 병합 사전 생성\n",
    "translation_dictionary = official_dict.copy()\n",
    "translation_dictionary.update(custom_dict)"
   ]
  },
  {
   "cell_type": "code",
   "execution_count": 19,
   "metadata": {},
   "outputs": [],
   "source": [
    "translated_text = \"깜박이는 횃불 하나와 오래 사용한 철 곡괭이만을 무장한 결의에 찬 플레이어는 광활한 사바나 생물군계 아래에 발견한 미로 같은 동굴 시스템 속으로 더 깊이 탐험을 시작했다. 길을 잃지 않기 위해 조약돌 표지들을 조심스럽게 놓으면서, 어둠 속 구석에서 초록색 번쩍임으로 나타나는 크리퍼의 징후를 경계했다. 점점 더 위험해지는 밤을 견뎌내기 위해 꼭 필요한, 우수한 갑옷과 도구 제작에 필수적인 다이아몬드 광맥을 발견하기를 바랐다.\""
   ]
  },
  {
   "cell_type": "code",
   "execution_count": 20,
   "metadata": {},
   "outputs": [],
   "source": [
    "# --- 새로운 2단계 강조 표시 로직 ---\n",
    "def find_matches(dictionary, text, tag):\n",
    "    \"\"\"주어진 사전의 값들을 텍스트에서 찾아 (시작, 끝, 태그) 리스트 반환\"\"\"\n",
    "    matches = []\n",
    "    text_lower = text.lower()\n",
    "    for value in dictionary.values():\n",
    "        values_to_search = []\n",
    "        if isinstance(value, str):\n",
    "            values_to_search.append(value)\n",
    "        elif isinstance(value, list):\n",
    "            values_to_search.extend([item for item in value if isinstance(item, str)])\n",
    "\n",
    "        for val_str in values_to_search:\n",
    "            val_str_lower = val_str.lower()\n",
    "            if not val_str_lower:\n",
    "                continue\n",
    "            start_index = 0\n",
    "            while True:\n",
    "                index = text_lower.find(val_str_lower, start_index)\n",
    "                if index == -1:\n",
    "                    break\n",
    "                end_index = index + len(val_str_lower)\n",
    "                # 원본 텍스트 조각과 태그 저장\n",
    "                original_text_segment = text[index:end_index]\n",
    "                matches.append((index, end_index, tag, original_text_segment))\n",
    "                start_index = index + 1\n",
    "    return matches\n",
    "\n",
    "    # 2단계: 사용자 정의 사전 매칭\n",
    "\n",
    "\n",
    "custom_matches = find_matches(custom_dict, translated_text, \"추가 사전\")\n",
    "\n",
    "# 1단계: 공식 사전 매칭\n",
    "official_matches = find_matches(official_dict, translated_text, \"공식 사전\")\n",
    "\n",
    "# 모든 매치 결합\n",
    "all_matches = custom_matches + official_matches\n",
    "\n",
    "filtered_matches = []\n",
    "if all_matches:\n",
    "    # 정렬: 시작 위치 오름차순, 길이(end-start) 내림차순\n",
    "    all_matches.sort(key=lambda x: (x[0], -(x[1] - x[0])))\n",
    "\n",
    "    # --- 수정된 필터링 로직 --- #\n",
    "    processed_indices = set()\n",
    "    temp_filtered_matches = []  # 임시 리스트\n",
    "\n",
    "    for start, end, tag, segment in all_matches:\n",
    "        # 현재 매치가 이미 처리된 인덱스와 겹치는지 확인\n",
    "        is_overlapping = False\n",
    "        for i in range(start, end):\n",
    "            if i in processed_indices:\n",
    "                is_overlapping = True\n",
    "                break\n",
    "\n",
    "        # 겹치지 않는 경우에만 추가 (정렬 순서상 먼저 오는 것이 더 길거나 같음)\n",
    "        if not is_overlapping:\n",
    "            temp_filtered_matches.append((start, end, tag, segment))\n",
    "            # 이 매치가 차지하는 인덱스를 기록\n",
    "            for i in range(start, end):\n",
    "                processed_indices.add(i)\n",
    "\n",
    "    # 최종 결과를 위해 시작 위치 기준으로 다시 정렬\n",
    "    temp_filtered_matches.sort(key=lambda x: x[0])\n",
    "    filtered_matches = temp_filtered_matches\n",
    "    # --- 필터링 로직 수정 끝 --- #\n",
    "\n",
    "# annotated_result 구성\n",
    "annotated_result = []\n",
    "current_pos = 0\n",
    "for start, end, tag, segment in filtered_matches:\n",
    "    if start > current_pos:\n",
    "        annotated_result.append(translated_text[current_pos:start])\n",
    "    # 태그와 함께 매치된 부분 추가 (여기서 segment 사용)\n",
    "    annotated_result.append((segment, tag))\n",
    "    current_pos = end\n",
    "\n",
    "if current_pos < len(translated_text):\n",
    "    annotated_result.append(translated_text[current_pos:])\n",
    "\n",
    "if not annotated_result:  # 매치된 것이 없으면 원본 텍스트\n",
    "    annotated_result = [translated_text]"
   ]
  },
  {
   "cell_type": "code",
   "execution_count": 21,
   "metadata": {},
   "outputs": [
    {
     "data": {
      "text/plain": [
       "[(64, 76, '추가 사전', '미로 같은 동굴 시스템')]"
      ]
     },
     "execution_count": 21,
     "metadata": {},
     "output_type": "execute_result"
    }
   ],
   "source": [
    "custom_matches\n"
   ]
  },
  {
   "cell_type": "code",
   "execution_count": 22,
   "metadata": {},
   "outputs": [
    {
     "data": {
      "text/plain": [
       "['깜박이는 ',\n",
       " ('횃불', '공식 사전'),\n",
       " ' 하나와 오래 ',\n",
       " ('사용', '공식 사전'),\n",
       " '한 ',\n",
       " ('철 곡괭이', '공식 사전'),\n",
       " '만을 무장한 결의에 찬 ',\n",
       " ('플레이어', '공식 사전'),\n",
       " '는 광',\n",
       " ('활', '공식 사전'),\n",
       " '한 ',\n",
       " ('사바나', '공식 사전'),\n",
       " ' 생',\n",
       " ('물', '공식 사전'),\n",
       " '군계 아래에 발견한 ',\n",
       " ('미로 같은 동굴 시스템', '추가 사전'),\n",
       " ' 속으로 더 깊이 탐험을 ',\n",
       " ('시작', '공식 사전'),\n",
       " '했다',\n",
       " ('.', '공식 사전'),\n",
       " ' 길을 잃지 않기 위해 ',\n",
       " ('조약돌', '공식 사전'),\n",
       " ' ',\n",
       " ('표지', '공식 사전'),\n",
       " '들을 조심스럽게 놓으면서',\n",
       " (',', '공식 사전'),\n",
       " ' ',\n",
       " ('어둠', '공식 사전'),\n",
       " ' 속 구석에서 ',\n",
       " ('초록색', '공식 사전'),\n",
       " ' 번쩍임으로 나타나는 ',\n",
       " ('크리퍼', '공식 사전'),\n",
       " '의 징후를 경계했다',\n",
       " ('.', '공식 사전'),\n",
       " ' 점점 더 위험해지는 밤을 견뎌내기 위해 꼭 필요한',\n",
       " (',', '공식 사전'),\n",
       " ' 우수한 ',\n",
       " ('갑옷', '공식 사전'),\n",
       " '과 도구 ',\n",
       " ('제작', '공식 사전'),\n",
       " '에 필수적인 ',\n",
       " ('다이아몬드', '공식 사전'),\n",
       " ' 광맥을 발견하기를 바랐다',\n",
       " ('.', '공식 사전')]"
      ]
     },
     "execution_count": 22,
     "metadata": {},
     "output_type": "execute_result"
    }
   ],
   "source": [
    "annotated_result\n"
   ]
  },
  {
   "cell_type": "code",
   "execution_count": null,
   "metadata": {},
   "outputs": [],
   "source": []
  },
  {
   "cell_type": "code",
   "execution_count": null,
   "metadata": {},
   "outputs": [],
   "source": []
  }
 ],
 "metadata": {
  "kernelspec": {
   "display_name": ".venv",
   "language": "python",
   "name": "python3"
  },
  "language_info": {
   "codemirror_mode": {
    "name": "ipython",
    "version": 3
   },
   "file_extension": ".py",
   "mimetype": "text/x-python",
   "name": "python",
   "nbconvert_exporter": "python",
   "pygments_lexer": "ipython3",
   "version": "3.12.9"
  }
 },
 "nbformat": 4,
 "nbformat_minor": 2
}
